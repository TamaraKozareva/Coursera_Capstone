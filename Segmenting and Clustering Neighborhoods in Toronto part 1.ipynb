#!/usr/bin/env python
# coding: utf-8

# In[53]:


import numpy as np # library to handle data in a vectorized manner

import pandas as pd # library for data analsysis
from pandas.io.json import json_normalize # tranform JSON file into a pandas dataframe
pd.set_option("display.max_columns", None)
pd.set_option("display.max_rows", None)

import json # library to handle JSON files

get_ipython().system('conda install -c conda-forge geopy --yes')
from geopy.geocoders import Nominatim # convert an address into latitude and longitude values

import requests # library to handle requests
from bs4 import BeautifulSoup # library to parse HTML and XML documents

# Matplotlib and associated plotting modules
import matplotlib.cm as cm
import matplotlib.colors as colors

# import k-means from clustering stage
from sklearn.cluster import KMeans

get_ipython().system('conda install -c conda-forge folium --yes')
import folium # map rendering library

print("Libraries imported.")


# ## Use the Notebook to build the code to scrape the following Wikipedia page, https://en.wikipedia.org/wiki/List_of_postal_codes_of_Canada:_M, in order to obtain the data that is in the table of postal codes and to transform the data into a pandas dataframe

# In[37]:


url = requests.get('https://en.wikipedia.org/wiki/List_of_postal_codes_of_Canada:_M').text
soup = BeautifulSoup(url,'lxml') 


# In[38]:


table_post = soup.find('table')
fields = table_post.find_all('td')


# In[39]:


postcode = []
borough = []
neighbourhood = []


# ## Create Dataframe with Postcode, Borough and Neighbourhood columns

# In[40]:


for i in range(0, len(fields), 3):
    postcode.append(fields[i].text.strip())
    borough.append(fields[i+1].text.strip())
    neighbourhood.append(fields[i+2].text.strip())
        
toronto_df = pd.DataFrame(data=[postcode, borough, neighbourhood]).transpose()
toronto_df.columns = ['Postcode', 'Borough', 'Neighbourhood']
toronto_df.head()


# ## Remove Not Assigned

# In[41]:


toronto_df['Borough'].replace('Not assigned', np.nan, inplace=True)
toronto_df.dropna(subset=['Borough'], inplace=True)

toronto_df.head()


# ## Combine Neighborhoods corresponding to the same Postcode

# In[42]:


toronto_df = toronto_df.groupby(['Postcode', 'Borough'])['Neighbourhood'].apply(', '.join).reset_index()
toronto_df.columns = ['Postcode', 'Borough', 'Neighbourhood']
toronto_df


# ## Final Dataframe as seen in the assignment

# In[59]:


column_names = ["Postcode", "Borough"]
test_df = pd.DataFrame(columns=column_names)

test_list = ["M5G", "M2H", "M4B", "M1J", "M4G", "M4M", "M1R", "M9V", "M9L", "M5V", "M1B", "M5A"]

for postcode in test_list:
    test_df = test_df.append(toronto_df[toronto_df["Postcode"]==postcode], ignore_index=True)
    
test_df


# In[54]:


df_geo = pd.read_csv('http://cocl.us/Geospatial_data')
df_geo.columns = ['Postcode', 'Latitude', 'Longitude']


# In[57]:


df_pos = pd.merge(toronto_df, df_geo, on=['Postcode'], how='inner')

df_toronto = df_pos[['Borough', 'Neighbourhood', 'Postcode', 'Latitude', 'Longitude']].copy()

df_toronto.head()


# ## See the below dataframe matching the assignment 

# In[60]:


column_names = ["Postcode", "Borough"]
test_df = pd.DataFrame(columns=column_names)

test_list = ["M5G", "M2H", "M4B", "M1J", "M4G", "M4M", "M1R", "M9V", "M9L", "M5V", "M1B", "M5A"]

for postcode in test_list:
    test_df = test_df.append(df_toronto[df_toronto["Postcode"]==postcode], ignore_index=True)
    
test_df


# In[ ]:




